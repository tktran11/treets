{
 "cells": [
  {
   "cell_type": "code",
   "execution_count": 1,
   "id": "23752b2d-7a9e-4ee7-98e0-fc08a2c72146",
   "metadata": {},
   "outputs": [],
   "source": [
    "import numpy as np\n",
    "import pandas as pd"
   ]
  },
  {
   "cell_type": "code",
   "execution_count": 2,
   "id": "38c23398-be12-4171-8cd2-96d8385ccc2a",
   "metadata": {},
   "outputs": [],
   "source": [
    "new = pd.read_csv(\"2024_12_parser_keys.csv\")\n",
    "old = pd.read_csv(\"2024_07_parser_keys.csv\")"
   ]
  },
  {
   "cell_type": "code",
   "execution_count": 33,
   "id": "ba0be65e-69b3-4c1f-a41c-e40109927725",
   "metadata": {
    "scrolled": true
   },
   "outputs": [
    {
     "data": {
      "text/html": [
       "<div>\n",
       "<style scoped>\n",
       "    .dataframe tbody tr th:only-of-type {\n",
       "        vertical-align: middle;\n",
       "    }\n",
       "\n",
       "    .dataframe tbody tr th {\n",
       "        vertical-align: top;\n",
       "    }\n",
       "\n",
       "    .dataframe thead th {\n",
       "        text-align: right;\n",
       "    }\n",
       "</style>\n",
       "<table border=\"1\" class=\"dataframe\">\n",
       "  <thead>\n",
       "    <tr style=\"text-align: right;\">\n",
       "      <th></th>\n",
       "      <th>gram_key</th>\n",
       "      <th>food_type</th>\n",
       "      <th>gram_type</th>\n",
       "      <th>tag1</th>\n",
       "      <th>tag2</th>\n",
       "      <th>tag3</th>\n",
       "      <th>tag4</th>\n",
       "      <th>tag5</th>\n",
       "      <th>tag1_list</th>\n",
       "      <th>tag2_list</th>\n",
       "      <th>tag3_list</th>\n",
       "      <th>tag4_list</th>\n",
       "      <th>tag5_list</th>\n",
       "      <th>tag6</th>\n",
       "      <th>tag7</th>\n",
       "    </tr>\n",
       "  </thead>\n",
       "  <tbody>\n",
       "    <tr>\n",
       "      <th>2682</th>\n",
       "      <td>wholemeal</td>\n",
       "      <td>f</td>\n",
       "      <td>1</td>\n",
       "      <td>grain</td>\n",
       "      <td>NaN</td>\n",
       "      <td>NaN</td>\n",
       "      <td>NaN</td>\n",
       "      <td>NaN</td>\n",
       "      <td>['grain']</td>\n",
       "      <td>NaN</td>\n",
       "      <td>NaN</td>\n",
       "      <td>NaN</td>\n",
       "      <td>NaN</td>\n",
       "      <td>NaN</td>\n",
       "      <td>NaN</td>\n",
       "    </tr>\n",
       "    <tr>\n",
       "      <th>4700</th>\n",
       "      <td>wholemeal</td>\n",
       "      <td>modifier</td>\n",
       "      <td>1</td>\n",
       "      <td>grain</td>\n",
       "      <td>whole grain</td>\n",
       "      <td>NaN</td>\n",
       "      <td>NaN</td>\n",
       "      <td>NaN</td>\n",
       "      <td>['grain']</td>\n",
       "      <td>['whole grain']</td>\n",
       "      <td>NaN</td>\n",
       "      <td>['high sodium']</td>\n",
       "      <td>NaN</td>\n",
       "      <td>NaN</td>\n",
       "      <td>NaN</td>\n",
       "    </tr>\n",
       "  </tbody>\n",
       "</table>\n",
       "</div>"
      ],
      "text/plain": [
       "       gram_key food_type  gram_type   tag1         tag2 tag3 tag4 tag5  \\\n",
       "2682  wholemeal         f          1  grain          NaN  NaN  NaN  NaN   \n",
       "4700  wholemeal  modifier          1  grain  whole grain  NaN  NaN  NaN   \n",
       "\n",
       "      tag1_list        tag2_list tag3_list        tag4_list tag5_list  tag6  \\\n",
       "2682  ['grain']              NaN       NaN              NaN       NaN   NaN   \n",
       "4700  ['grain']  ['whole grain']       NaN  ['high sodium']       NaN   NaN   \n",
       "\n",
       "      tag7  \n",
       "2682   NaN  \n",
       "4700   NaN  "
      ]
     },
     "execution_count": 33,
     "metadata": {},
     "output_type": "execute_result"
    }
   ],
   "source": [
    "new[new[\"gram_key\"].duplicated(keep=False)].sort_values(by=\"gram_key\").iloc[100:]"
   ]
  },
  {
   "cell_type": "code",
   "execution_count": null,
   "id": "122086a8-631a-48e8-a44e-a875eb4900d5",
   "metadata": {},
   "outputs": [],
   "source": []
  }
 ],
 "metadata": {
  "kernelspec": {
   "display_name": "Python 3 (ipykernel)",
   "language": "python",
   "name": "python3"
  },
  "language_info": {
   "codemirror_mode": {
    "name": "ipython",
    "version": 3
   },
   "file_extension": ".py",
   "mimetype": "text/x-python",
   "name": "python",
   "nbconvert_exporter": "python",
   "pygments_lexer": "ipython3",
   "version": "3.12.7"
  }
 },
 "nbformat": 4,
 "nbformat_minor": 5
}
