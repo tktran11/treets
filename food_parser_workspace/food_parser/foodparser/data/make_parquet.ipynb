{
 "cells": [
  {
   "cell_type": "code",
   "execution_count": 1,
   "id": "acd59ea7",
   "metadata": {},
   "outputs": [],
   "source": [
    "import pandas as pd"
   ]
  },
  {
   "cell_type": "code",
   "execution_count": 2,
   "id": "fc059c6d",
   "metadata": {},
   "outputs": [],
   "source": [
    "new = pd.read_csv(\"2024_06_parser_keys.csv\")"
   ]
  },
  {
   "cell_type": "code",
   "execution_count": 3,
   "id": "f5904bf5",
   "metadata": {},
   "outputs": [],
   "source": [
    "from ast import literal_eval"
   ]
  },
  {
   "cell_type": "code",
   "execution_count": 4,
   "id": "e08c39be",
   "metadata": {},
   "outputs": [
    {
     "data": {
      "text/plain": [
       "['tag1', 'tag2', 'tag3', 'tag4', 'tag5']"
      ]
     },
     "execution_count": 4,
     "metadata": {},
     "output_type": "execute_result"
    }
   ],
   "source": [
    "tags = [f\"tag{num}\" for num in range(1, 5 + 1)]\n",
    "tags"
   ]
  },
  {
   "cell_type": "code",
   "execution_count": 5,
   "id": "61ea6263",
   "metadata": {},
   "outputs": [],
   "source": [
    "for tag in tags:\n",
    "    new[f\"{tag}_list\"] = new[tag].str.split(\", \")"
   ]
  },
  {
   "cell_type": "code",
   "execution_count": 6,
   "id": "841beb20",
   "metadata": {},
   "outputs": [],
   "source": [
    "new.to_parquet(\"2024_06_parser_keys.parquet\", index=False)"
   ]
  },
  {
   "cell_type": "code",
   "execution_count": 7,
   "id": "0a19a01a",
   "metadata": {},
   "outputs": [],
   "source": [
    "new[new[\"food_type\"] == \"m\"].to_csv(\"2024_06_parser_keys_med_only.csv\", index=False)"
   ]
  },
  {
   "cell_type": "code",
   "execution_count": null,
   "id": "473004dd",
   "metadata": {},
   "outputs": [],
   "source": []
  }
 ],
 "metadata": {
  "kernelspec": {
   "display_name": "Python 3 (ipykernel)",
   "language": "python",
   "name": "python3"
  },
  "language_info": {
   "codemirror_mode": {
    "name": "ipython",
    "version": 3
   },
   "file_extension": ".py",
   "mimetype": "text/x-python",
   "name": "python",
   "nbconvert_exporter": "python",
   "pygments_lexer": "ipython3",
   "version": "3.9.7"
  }
 },
 "nbformat": 4,
 "nbformat_minor": 5
}
