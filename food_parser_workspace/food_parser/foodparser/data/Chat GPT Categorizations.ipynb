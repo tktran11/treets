{
 "cells": [
  {
   "cell_type": "code",
   "execution_count": 1,
   "id": "eba1390c",
   "metadata": {},
   "outputs": [],
   "source": [
    "import pandas as pd\n",
    "import numpy as np"
   ]
  },
  {
   "cell_type": "code",
   "execution_count": 2,
   "id": "aafe1427",
   "metadata": {},
   "outputs": [],
   "source": [
    "additions = {\n",
    "    \"oatmilk\": \"oat milk\",\n",
    "    \"bahn mi\": \"banh mi\",\n",
    "    \"pierogies\": \"pierogi\",\n",
    "    \"bullion\": \"bouillon\",\n",
    "    \"caocao\": \"cacao\",\n",
    "    \"coca diet\": \"diet coke\",\n",
    "    \"desert\": \"dessert\",\n",
    "    \"fritata\": \"frittata\",\n",
    "    \"idly\": \"idli\",\n",
    "    \"idlis\": \"idli\",\n",
    "    \"museli\": \"muesli\",\n",
    "    \"patato\": \"potato\",\n",
    "    \"pepitas\": \"pepita\",\n",
    "    \"poridge\": \"porridge\",\n",
    "    \"shiritaki\": \"shirataki\",\n",
    "    \"weat\": \"wheat\",\n",
    "    \"whine\": \"wine\",\n",
    "}\n",
    "\n",
    "# check for ample k"
   ]
  },
  {
   "cell_type": "code",
   "execution_count": 3,
   "id": "b38bab00",
   "metadata": {},
   "outputs": [
    {
     "data": {
      "text/plain": [
       "category\n",
       "mixed dishes                 521\n",
       "proteins                     231\n",
       "grains                       203\n",
       "other                        195\n",
       "vegetables                   189\n",
       "fruits                       174\n",
       "milk, dairy, substitutes     162\n",
       "bakery products, desserts    148\n",
       "beverages                    148\n",
       "snacks                       138\n",
       "coffee and tea               132\n",
       "alcoholic beverages          118\n",
       "plant proteins               108\n",
       "condiments                   105\n",
       "candy                         81\n",
       "Name: count, dtype: int64"
      ]
     },
     "execution_count": 3,
     "metadata": {},
     "output_type": "execute_result"
    }
   ],
   "source": [
    "df = pd.read_csv(\"chatgpt_categorizations.csv\")\n",
    "df[\"category\"].value_counts()"
   ]
  },
  {
   "cell_type": "code",
   "execution_count": null,
   "id": "cc6d8907",
   "metadata": {},
   "outputs": [],
   "source": []
  }
 ],
 "metadata": {
  "kernelspec": {
   "display_name": "Python 3 (ipykernel)",
   "language": "python",
   "name": "python3"
  },
  "language_info": {
   "codemirror_mode": {
    "name": "ipython",
    "version": 3
   },
   "file_extension": ".py",
   "mimetype": "text/x-python",
   "name": "python",
   "nbconvert_exporter": "python",
   "pygments_lexer": "ipython3",
   "version": "3.9.7"
  }
 },
 "nbformat": 4,
 "nbformat_minor": 5
}
